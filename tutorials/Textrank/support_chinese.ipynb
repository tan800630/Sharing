{
 "cells": [
  {
   "cell_type": "markdown",
   "metadata": {},
   "source": [
    "# TextRank implementation - jieba (keyword extraction only)\n",
    "\n",
    "- 無向版本\n",
    "- https://github.com/fxsjy/jieba\n",
    "- [TextRank — 文字探勘 — 找出關鍵字 以 八卦版標題為例](https://medium.com/@danjtchen/textrank-%E6%96%87%E5%AD%97%E6%8E%A2%E5%8B%98-%E6%89%BE%E5%87%BA%E9%97%9C%E9%8D%B5%E5%AD%97-%E4%BB%A5-%E5%85%AB%E5%8D%A6%E7%89%88%E6%A8%99%E9%A1%8C%E7%82%BA%E4%BE%8B-b16620370872)"
   ]
  },
  {
   "cell_type": "code",
   "execution_count": 1,
   "metadata": {},
   "outputs": [],
   "source": [
    "import jieba\n",
    "from jieba.analyse import textrank"
   ]
  },
  {
   "cell_type": "code",
   "execution_count": 2,
   "metadata": {},
   "outputs": [],
   "source": [
    "text = open('dat/text1.txt','r').read()"
   ]
  },
  {
   "cell_type": "code",
   "execution_count": 27,
   "metadata": {},
   "outputs": [
    {
     "name": "stdout",
     "output_type": "stream",
     "text": [
      "['罷免', '選舉', '花學運', '合一', '喊出', '宣布', '選人', '名單', '太陽', '風潮', '人馬', '戰民', '不分區', '挑戰', '落敗', '回鍋', '再戰', '高雄市', '參選', '出現']\n"
     ]
    }
   ],
   "source": [
    "keywords = textrank(text)\n",
    "print(keywords)"
   ]
  },
  {
   "cell_type": "markdown",
   "metadata": {},
   "source": [
    "---"
   ]
  },
  {
   "cell_type": "markdown",
   "metadata": {},
   "source": [
    "# TextRank implementation - snownlp\n",
    "\n",
    "- https://github.com/isnowfy/snownlp"
   ]
  },
  {
   "cell_type": "code",
   "execution_count": 26,
   "metadata": {},
   "outputs": [],
   "source": [
    "#!pip install snownlp --user"
   ]
  },
  {
   "cell_type": "code",
   "execution_count": 10,
   "metadata": {},
   "outputs": [],
   "source": [
    "from snownlp import SnowNLP"
   ]
  },
  {
   "cell_type": "code",
   "execution_count": 8,
   "metadata": {},
   "outputs": [],
   "source": [
    "text = open('dat/text1.txt','r').read()"
   ]
  },
  {
   "cell_type": "code",
   "execution_count": 11,
   "metadata": {},
   "outputs": [],
   "source": [
    "s = SnowNLP(text)"
   ]
  },
  {
   "cell_type": "code",
   "execution_count": 17,
   "metadata": {},
   "outputs": [
    {
     "data": {
      "text/plain": [
       "['選', '「', '」', '前', '立委', '人', '黨', '全', '委', '立', '區', '不', '北', '割', '後']"
      ]
     },
     "execution_count": 17,
     "metadata": {},
     "output_type": "execute_result"
    }
   ],
   "source": [
    "s.keywords(15)"
   ]
  },
  {
   "cell_type": "code",
   "execution_count": 14,
   "metadata": {},
   "outputs": [
    {
     "data": {
      "text/plain": [
       "['其餘還包括前新北市立委江惠貞、前台中市立委蔡錦隆、前高雄市立委林國正及現任國民黨不分區黃昭順等人',\n",
       " '因而「割闌尾」也有「割藍委」之意',\n",
       " '黨內各路人馬隨之表態有意挑戰2020年立委選舉',\n",
       " '甚至曾被「割闌尾」的前藍委們',\n",
       " '在國民黨這次九合一選舉勝選後']"
      ]
     },
     "execution_count": 14,
     "metadata": {},
     "output_type": "execute_result"
    }
   ],
   "source": [
    "s.summary()"
   ]
  },
  {
   "cell_type": "markdown",
   "metadata": {},
   "source": [
    "---"
   ]
  },
  {
   "cell_type": "markdown",
   "metadata": {},
   "source": [
    "# TextRank implementation - TextRank4ZH\n",
    "\n",
    "- https://github.com/letiantian/TextRank4ZH\n",
    "- [基於Textrank 的摘要提取方法](https://medium.com/@ddoo8059/%E5%9F%BA%E6%96%BCtextrank-%E7%9A%84%E6%91%98%E8%A6%81%E6%8F%90%E5%8F%96%E6%96%B9%E6%B3%95-40f6191f4399)"
   ]
  },
  {
   "cell_type": "code",
   "execution_count": 25,
   "metadata": {},
   "outputs": [],
   "source": [
    "#! pip install textrank4zh --user"
   ]
  },
  {
   "cell_type": "code",
   "execution_count": 19,
   "metadata": {},
   "outputs": [],
   "source": [
    "from textrank4zh import TextRank4Keyword, TextRank4Sentence"
   ]
  },
  {
   "cell_type": "code",
   "execution_count": 20,
   "metadata": {},
   "outputs": [],
   "source": [
    "text = open('dat/text1.txt','r').read()"
   ]
  },
  {
   "cell_type": "code",
   "execution_count": 28,
   "metadata": {},
   "outputs": [
    {
     "name": "stdout",
     "output_type": "stream",
     "text": [
      "關鍵詞\n",
      "立委 0.06042886319249641\n",
      "前 0.02716214389053882\n",
      "罷免 0.02234580053371305\n",
      "後 0.022009910738305327\n",
      "選舉 0.020696795513828005\n",
      "割 0.016756315893987565\n",
      "尾 0.015979473484699417\n",
      "大 0.015910482329088937\n",
      "不分區 0.015168092944039395\n",
      "有意 0.013314676939284474\n",
      "\n",
      "關鍵短語\n",
      "前立委\n"
     ]
    }
   ],
   "source": [
    "tr4w = TextRank4Keyword()\n",
    "\n",
    "tr4w.analyze(text=text, lower=True, window=2)\n",
    "\n",
    "print('關鍵詞')\n",
    "for item in tr4w.get_keywords(10, word_min_len=1):\n",
    "    print(item.word, item.weight)\n",
    "\n",
    "print('\\n關鍵短語')\n",
    "for phrase in tr4w.get_keyphrases(keywords_num=10, min_occur_num= 2):\n",
    "    print(phrase)"
   ]
  },
  {
   "cell_type": "code",
   "execution_count": 29,
   "metadata": {},
   "outputs": [
    {
     "name": "stdout",
     "output_type": "stream",
     "text": [
      "\n",
      "摘要\n",
      "3 0.14996477411940107 當時，被鎖定罷免的立委全為國民黨籍，因而「割闌尾」也有「割藍委」之意，而網路上罷免聲量最高的前3人，分別為前台北市立委蔡正元、前新北市立委林鴻池及吳育昇，其餘還包括前新北市立委江惠貞、前台中市立委蔡錦隆、前高雄市立委林國正及現任國民黨不分區黃昭順等人\n",
      "2 0.137218983076303 2014年太陽花學運爆發後，民間團體發起「割闌尾計畫」，訴求罷免全國各地區的不適任立委，並喊出「可割可棄，利大於弊」等口號\n",
      "1 0.13067915333678964 不少前立委也想打鐵趁熱，趁著這波勝勢重返立法院，尤其當年那些受到太陽花學運影響而落敗，甚至曾被「割闌尾」的前藍委們，這次也將「回鍋」再戰\n"
     ]
    }
   ],
   "source": [
    "tr4s = TextRank4Sentence()\n",
    "tr4s.analyze(text=text, lower=True, source = 'all_filters')\n",
    "\n",
    "print('\\n摘要')\n",
    "for item in tr4s.get_key_sentences(num=3):\n",
    "    print(item.index, item.weight, item.sentence) "
   ]
  }
 ],
 "metadata": {
  "kernelspec": {
   "display_name": "Python 3",
   "language": "python",
   "name": "python3"
  },
  "language_info": {
   "codemirror_mode": {
    "name": "ipython",
    "version": 3
   },
   "file_extension": ".py",
   "mimetype": "text/x-python",
   "name": "python",
   "nbconvert_exporter": "python",
   "pygments_lexer": "ipython3",
   "version": "3.6.6"
  }
 },
 "nbformat": 4,
 "nbformat_minor": 2
}
