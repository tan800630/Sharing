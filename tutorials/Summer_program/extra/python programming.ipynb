{
 "cells": [
  {
   "cell_type": "markdown",
   "metadata": {
    "colab_type": "text",
    "id": "riAhiisHbTir"
   },
   "source": [
    "# Python programming"
   ]
  },
  {
   "cell_type": "markdown",
   "metadata": {
    "colab_type": "text",
    "id": "gSS4gGWShRdv"
   },
   "source": [
    "## What is Jupyter notebook"
   ]
  },
  {
   "cell_type": "markdown",
   "metadata": {
    "colab_type": "text",
    "id": "IoycHnU0hRdx"
   },
   "source": [
    "- interactive scriptting tools\n",
    "- browser-based interface\n",
    "- code / plain text / markdown format supported"
   ]
  },
  {
   "cell_type": "markdown",
   "metadata": {
    "colab_type": "text",
    "id": "8l0EkMnrhRdy"
   },
   "source": [
    "### Keyboard shortcuts"
   ]
  },
  {
   "cell_type": "markdown",
   "metadata": {
    "colab_type": "text",
    "id": "81gc-s6MhRdz"
   },
   "source": [
    "-  Run Selected Cell -> shift+Enter / ctrl+Enter\n",
    "-  Insert Cell above -> A\n",
    "-  Insert Cell below -> B\n",
    "-  Delete Cell -> D, D\n",
    "-  Copy Selected Cell -> C\n",
    "-  Paste Selected Cell -> V"
   ]
  },
  {
   "cell_type": "code",
   "execution_count": null,
   "metadata": {},
   "outputs": [],
   "source": []
  },
  {
   "cell_type": "markdown",
   "metadata": {},
   "source": [
    "---"
   ]
  },
  {
   "cell_type": "markdown",
   "metadata": {
    "colab_type": "text",
    "id": "CVijCOW0hRd8"
   },
   "source": [
    "## Python language\n",
    "- Python code is easy to read and learn\n",
    "- search / google those code if you don't know what they means\n",
    "- code starts with '#' denotes comment\n"
   ]
  },
  {
   "cell_type": "markdown",
   "metadata": {
    "colab_type": "text",
    "id": "6QX0jSLhhRe6"
   },
   "source": [
    "### Basic data types"
   ]
  },
  {
   "cell_type": "code",
   "execution_count": 1,
   "metadata": {
    "colab": {
     "base_uri": "https://localhost:8080/",
     "height": 70
    },
    "colab_type": "code",
    "executionInfo": {
     "elapsed": 672,
     "status": "ok",
     "timestamp": 1551257757194,
     "user": {
      "displayName": "jerry wang",
      "photoUrl": "",
      "userId": "11885116108384101716"
     },
     "user_tz": -480
    },
    "id": "97xuPxsuJRUd",
    "outputId": "7aecdb6d-0297-475d-c179-f9ac1923db72"
   },
   "outputs": [
    {
     "name": "stdout",
     "output_type": "stream",
     "text": [
      "<class 'str'>\n",
      "<class 'int'>\n",
      "<class 'float'>\n"
     ]
    }
   ],
   "source": [
    "string = \"100\" \n",
    "integer = 100\n",
    "fraction = 100.0\n",
    "print(type(string))\n",
    "print(type(integer))\n",
    "print(type(fraction))"
   ]
  },
  {
   "cell_type": "markdown",
   "metadata": {
    "colab_type": "text",
    "id": "m3mIZ56LbZ2v"
   },
   "source": [
    "### Convert data types"
   ]
  },
  {
   "cell_type": "code",
   "execution_count": 2,
   "metadata": {
    "colab": {
     "base_uri": "https://localhost:8080/",
     "height": 70
    },
    "colab_type": "code",
    "executionInfo": {
     "elapsed": 664,
     "status": "ok",
     "timestamp": 1551258175984,
     "user": {
      "displayName": "jerry wang",
      "photoUrl": "",
      "userId": "11885116108384101716"
     },
     "user_tz": -480
    },
    "id": "WPGh2aAAJ1Db",
    "outputId": "f095be9a-437a-4e97-d5bc-cacb35d9bd08"
   },
   "outputs": [
    {
     "name": "stdout",
     "output_type": "stream",
     "text": [
      "False\n",
      "True\n",
      "True\n"
     ]
    }
   ],
   "source": [
    "print(string == integer) \n",
    "print(string == str(integer))\n",
    "print(int(string) == integer)"
   ]
  },
  {
   "cell_type": "markdown",
   "metadata": {},
   "source": [
    "### List and Dictionary"
   ]
  },
  {
   "cell_type": "code",
   "execution_count": 3,
   "metadata": {
    "colab": {},
    "colab_type": "code",
    "id": "keCIJX-_hRfJ"
   },
   "outputs": [],
   "source": [
    "list1 = [ ' physics ' , ' chemistry ' , 1997 , 2000 ] \n",
    "list2 = [ 1 , 2 , 3 , 4 , 5 ] \n",
    "list3 = [ \" a \" , \" b \" , \" c \" , \" d \" ]"
   ]
  },
  {
   "cell_type": "code",
   "execution_count": 4,
   "metadata": {
    "colab": {},
    "colab_type": "code",
    "id": "snBiNVKRhRfP",
    "outputId": "20b4f66f-bf89-4a91-e5e8-148931f59202"
   },
   "outputs": [
    {
     "name": "stdout",
     "output_type": "stream",
     "text": [
      " physics \n"
     ]
    }
   ],
   "source": [
    "print(list1[0])"
   ]
  },
  {
   "cell_type": "code",
   "execution_count": 5,
   "metadata": {},
   "outputs": [],
   "source": [
    "dict1 = {'name': 'Bob',\n",
    "         'age': 24,\n",
    "         'major': 'CS'}"
   ]
  },
  {
   "cell_type": "code",
   "execution_count": 8,
   "metadata": {},
   "outputs": [
    {
     "name": "stdout",
     "output_type": "stream",
     "text": [
      "['name', 'age', 'major']\n",
      "['Bob', 24, 'CS']\n",
      "Bob\n"
     ]
    }
   ],
   "source": [
    "print(list(dict1.keys()))\n",
    "print(list(dict1.values()))\n",
    "\n",
    "print(dict1['name'])"
   ]
  },
  {
   "cell_type": "markdown",
   "metadata": {},
   "source": [
    "---"
   ]
  },
  {
   "cell_type": "markdown",
   "metadata": {
    "colab_type": "text",
    "id": "kK_uImDIhRef"
   },
   "source": [
    "### Basic operator\n",
    "\n",
    "- Arithmetic operator : \n",
    "    - Addition: +\n",
    "    - Substraction: -\n",
    "    - Multiplication: *\n",
    "    - Division: /\n",
    "    - Modulus: %\n",
    "    - Exponent: **"
   ]
  },
  {
   "cell_type": "code",
   "execution_count": 9,
   "metadata": {
    "colab": {},
    "colab_type": "code",
    "id": "n1BkYUIohReh",
    "outputId": "8613f51d-786d-469d-e16e-557f8b45db63"
   },
   "outputs": [
    {
     "data": {
      "text/plain": [
       "30"
      ]
     },
     "execution_count": 9,
     "metadata": {},
     "output_type": "execute_result"
    }
   ],
   "source": [
    "a = 10 \n",
    "b = 20 \n",
    "a+b"
   ]
  },
  {
   "cell_type": "markdown",
   "metadata": {},
   "source": [
    "- Comparison operator\n",
    "    - Equal to : ==\n",
    "    - Unequal to : !=\n",
    "    - greater than : >\n",
    "    - less than : <\n",
    "    "
   ]
  },
  {
   "cell_type": "code",
   "execution_count": 10,
   "metadata": {
    "colab": {},
    "colab_type": "code",
    "id": "q0ENdu4EhReu",
    "outputId": "015c147a-a3d6-431f-d949-fb77be496102"
   },
   "outputs": [
    {
     "data": {
      "text/plain": [
       "False"
      ]
     },
     "execution_count": 10,
     "metadata": {},
     "output_type": "execute_result"
    }
   ],
   "source": [
    "a=10\n",
    "b=20\n",
    "a==b"
   ]
  },
  {
   "cell_type": "markdown",
   "metadata": {
    "colab_type": "text",
    "id": "nxUglVPdhRex"
   },
   "source": [
    "-  Logical operator\n",
    "    - and : and\n",
    "    - or : or\n"
   ]
  },
  {
   "cell_type": "code",
   "execution_count": 11,
   "metadata": {
    "colab": {},
    "colab_type": "code",
    "id": "2h7jWQ9ShRey",
    "outputId": "7eb02d91-8556-47b6-83c2-5411ec4f6847"
   },
   "outputs": [
    {
     "name": "stdout",
     "output_type": "stream",
     "text": [
      "False\n"
     ]
    }
   ],
   "source": [
    "a = 10\n",
    "b = 20 \n",
    "print ( (a > 20) and (b<30))"
   ]
  },
  {
   "cell_type": "code",
   "execution_count": 12,
   "metadata": {
    "colab": {},
    "colab_type": "code",
    "id": "EojNaGuNhRe3",
    "outputId": "5342232f-731d-4d2b-9501-63dc0d09d717"
   },
   "outputs": [
    {
     "name": "stdout",
     "output_type": "stream",
     "text": [
      "True\n"
     ]
    }
   ],
   "source": [
    "a = 10\n",
    "b = 20 \n",
    "print ( (a > 20) or (b<30))"
   ]
  },
  {
   "cell_type": "markdown",
   "metadata": {},
   "source": [
    "---"
   ]
  },
  {
   "cell_type": "markdown",
   "metadata": {},
   "source": [
    "### Control flow"
   ]
  },
  {
   "cell_type": "markdown",
   "metadata": {},
   "source": [
    "#### 'if' statement\n",
    "- if / elif / else"
   ]
  },
  {
   "cell_type": "code",
   "execution_count": 13,
   "metadata": {
    "colab": {
     "base_uri": "https://localhost:8080/",
     "height": 34
    },
    "colab_type": "code",
    "executionInfo": {
     "elapsed": 682,
     "status": "ok",
     "timestamp": 1551259370342,
     "user": {
      "displayName": "jerry wang",
      "photoUrl": "",
      "userId": "11885116108384101716"
     },
     "user_tz": -480
    },
    "id": "jg7kIojtOCTO",
    "outputId": "959f8a72-8975-480b-b599-b4b5f74717a0"
   },
   "outputs": [
    {
     "name": "stdout",
     "output_type": "stream",
     "text": [
      "you are fail!\n"
     ]
    }
   ],
   "source": [
    "score = 59\n",
    "\n",
    "\n",
    "\n",
    "if(score >= 60 and score < 70):\n",
    "  print(\"you are C!\")\n",
    "elif(score >= 70 and score < 80):\n",
    "  print(\"you are B!\")\n",
    "elif(score >= 80 and score < 90):\n",
    "  print(\"you are A!\")\n",
    "elif(score >= 90 and score <= 100):\n",
    "  print(\"you are S!\")\n",
    "else:\n",
    "  print(\"you are fail!\")"
   ]
  },
  {
   "cell_type": "markdown",
   "metadata": {
    "colab_type": "text",
    "id": "3A-Wxo_nbFrZ"
   },
   "source": [
    "#### 'for' statement"
   ]
  },
  {
   "cell_type": "code",
   "execution_count": 14,
   "metadata": {
    "colab": {
     "base_uri": "https://localhost:8080/",
     "height": 122
    },
    "colab_type": "code",
    "executionInfo": {
     "elapsed": 702,
     "status": "ok",
     "timestamp": 1551259910586,
     "user": {
      "displayName": "jerry wang",
      "photoUrl": "",
      "userId": "11885116108384101716"
     },
     "user_tz": -480
    },
    "id": "vUfTik4FSJfo",
    "outputId": "e559cf7d-6579-452c-dc7c-46e7b8e9c263"
   },
   "outputs": [
    {
     "name": "stdout",
     "output_type": "stream",
     "text": [
      "21\n",
      "45\n",
      "87\n",
      "12\n",
      "34\n"
     ]
    }
   ],
   "source": [
    "temp_list = [21,45,87,12,34]\n",
    "\n",
    "for number in temp_list:\n",
    "  print(number)"
   ]
  },
  {
   "cell_type": "markdown",
   "metadata": {
    "colab_type": "text",
    "id": "mp97CIEghRgW"
   },
   "source": [
    "#### 'while' statement"
   ]
  },
  {
   "cell_type": "code",
   "execution_count": 15,
   "metadata": {
    "colab": {},
    "colab_type": "code",
    "id": "RkEYFzUyXTo7"
   },
   "outputs": [
    {
     "name": "stdout",
     "output_type": "stream",
     "text": [
      "0\n",
      "1\n",
      "2\n",
      "3\n",
      "4\n",
      "5\n"
     ]
    }
   ],
   "source": [
    "a = 0\n",
    "\n",
    "while a<6:\n",
    "    print(a)\n",
    "    a = a+1"
   ]
  },
  {
   "cell_type": "markdown",
   "metadata": {},
   "source": [
    "---"
   ]
  },
  {
   "cell_type": "markdown",
   "metadata": {
    "colab_type": "text",
    "id": "NmnA8m8tatOi"
   },
   "source": [
    "### Function"
   ]
  },
  {
   "cell_type": "code",
   "execution_count": 16,
   "metadata": {
    "colab": {
     "base_uri": "https://localhost:8080/",
     "height": 52
    },
    "colab_type": "code",
    "executionInfo": {
     "elapsed": 700,
     "status": "ok",
     "timestamp": 1551259509191,
     "user": {
      "displayName": "jerry wang",
      "photoUrl": "",
      "userId": "11885116108384101716"
     },
     "user_tz": -480
    },
    "id": "irTbIZdHQUO0",
    "outputId": "5366f845-0c60-4395-9494-7b92eed4d3bb"
   },
   "outputs": [
    {
     "name": "stdout",
     "output_type": "stream",
     "text": [
      "you are fail!\n",
      "you are B!\n"
     ]
    }
   ],
   "source": [
    "def grade(score):\n",
    "  if(score >= 60 and score < 70):\n",
    "    return (\"you are C!\")\n",
    "  elif(score >= 70 and score < 80):\n",
    "    return (\"you are B!\")\n",
    "  elif(score >= 80 and score < 90):\n",
    "    return (\"you are A!\")\n",
    "  elif(score >= 90 and score <= 100):\n",
    "    return (\"you are S!\")\n",
    "  else:\n",
    "    return (\"you are fail!\")\n",
    "\n",
    "print(grade(59))\n",
    "print(grade(70))"
   ]
  },
  {
   "cell_type": "code",
   "execution_count": null,
   "metadata": {},
   "outputs": [],
   "source": []
  }
 ],
 "metadata": {
  "colab": {
   "collapsed_sections": [],
   "name": "python基礎語法更新.ipynb",
   "provenance": [],
   "version": "0.3.2"
  },
  "kernelspec": {
   "display_name": "Python 3",
   "language": "python",
   "name": "python3"
  },
  "language_info": {
   "codemirror_mode": {
    "name": "ipython",
    "version": 3
   },
   "file_extension": ".py",
   "mimetype": "text/x-python",
   "name": "python",
   "nbconvert_exporter": "python",
   "pygments_lexer": "ipython3",
   "version": "3.6.6"
  }
 },
 "nbformat": 4,
 "nbformat_minor": 2
}
