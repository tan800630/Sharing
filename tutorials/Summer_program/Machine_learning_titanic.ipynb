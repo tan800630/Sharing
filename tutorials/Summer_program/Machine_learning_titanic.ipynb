{
 "cells": [
  {
   "cell_type": "markdown",
   "metadata": {},
   "source": [
    "# Hands on Machine learning\n",
    "- [10 Minutes to pandas](https://pandas.pydata.org/pandas-docs/stable/getting_started/10min.html)\n",
    "- [scikit-learn Tutorials](https://scikit-learn.org/stable/tutorial/index.html)"
   ]
  },
  {
   "cell_type": "markdown",
   "metadata": {},
   "source": [
    "## Import packages"
   ]
  },
  {
   "cell_type": "code",
   "execution_count": null,
   "metadata": {
    "scrolled": true
   },
   "outputs": [],
   "source": [
    "#packages for data manipulation\n",
    "import pandas as pd\n",
    "import numpy as np\n",
    "\n",
    "#packages for machine learning model\n",
    "from sklearn import preprocessing, model_selection, tree, metrics\n",
    "\n",
    "#packages for data visualization\n",
    "import matplotlib.pyplot as plt\n",
    "%matplotlib inline"
   ]
  },
  {
   "cell_type": "markdown",
   "metadata": {},
   "source": [
    "## Step 0 : Load data"
   ]
  },
  {
   "cell_type": "code",
   "execution_count": null,
   "metadata": {},
   "outputs": [],
   "source": [
    "train_dat = pd.read_csv('titanic_train.csv')\n",
    "test_dat = pd.read_csv('titanic_test.csv')"
   ]
  },
  {
   "cell_type": "code",
   "execution_count": null,
   "metadata": {},
   "outputs": [],
   "source": [
    "# top 5 dat\n",
    "train_dat.head()"
   ]
  },
  {
   "cell_type": "code",
   "execution_count": null,
   "metadata": {},
   "outputs": [],
   "source": [
    "train_dat.shape"
   ]
  },
  {
   "cell_type": "markdown",
   "metadata": {},
   "source": [
    "---"
   ]
  },
  {
   "cell_type": "markdown",
   "metadata": {},
   "source": [
    "## Step 1 : Data exploration"
   ]
  },
  {
   "cell_type": "code",
   "execution_count": null,
   "metadata": {},
   "outputs": [],
   "source": [
    "train_dat.info()"
   ]
  },
  {
   "cell_type": "markdown",
   "metadata": {},
   "source": [
    "### Survived"
   ]
  },
  {
   "cell_type": "code",
   "execution_count": null,
   "metadata": {},
   "outputs": [],
   "source": [
    "train_dat.Survived.value_counts()"
   ]
  },
  {
   "cell_type": "code",
   "execution_count": null,
   "metadata": {},
   "outputs": [],
   "source": [
    "train_dat.Survived.value_counts().plot.bar()"
   ]
  },
  {
   "cell_type": "markdown",
   "metadata": {},
   "source": [
    "### --Exercise-- \n",
    "- visualize column 'Pclass' in titanic data using bar-plot"
   ]
  },
  {
   "cell_type": "code",
   "execution_count": null,
   "metadata": {},
   "outputs": [],
   "source": []
  },
  {
   "cell_type": "markdown",
   "metadata": {},
   "source": [
    "### Fare"
   ]
  },
  {
   "cell_type": "code",
   "execution_count": null,
   "metadata": {},
   "outputs": [],
   "source": [
    "train_dat.Fare.hist()"
   ]
  },
  {
   "cell_type": "markdown",
   "metadata": {},
   "source": [
    "### --Exercise--\n",
    "- visualize column 'Age' in titanic data using histogram"
   ]
  },
  {
   "cell_type": "code",
   "execution_count": null,
   "metadata": {},
   "outputs": [],
   "source": []
  },
  {
   "cell_type": "markdown",
   "metadata": {},
   "source": [
    "### Survival rate v.s. Port Embarked "
   ]
  },
  {
   "cell_type": "code",
   "execution_count": null,
   "metadata": {},
   "outputs": [],
   "source": [
    "train_dat.groupby('Embarked').Survived.mean()"
   ]
  },
  {
   "cell_type": "code",
   "execution_count": null,
   "metadata": {},
   "outputs": [],
   "source": [
    "train_dat.groupby('Embarked').Survived.mean().plot.bar()"
   ]
  },
  {
   "cell_type": "markdown",
   "metadata": {},
   "source": [
    "### Survived v.s. Age"
   ]
  },
  {
   "cell_type": "code",
   "execution_count": null,
   "metadata": {},
   "outputs": [],
   "source": [
    "train_dat.boxplot('Age','Survived')"
   ]
  },
  {
   "cell_type": "markdown",
   "metadata": {},
   "source": [
    "### --Exercise--\n",
    "- try to explore relationships between other features and survived in titanic data."
   ]
  },
  {
   "cell_type": "code",
   "execution_count": null,
   "metadata": {},
   "outputs": [],
   "source": []
  },
  {
   "cell_type": "markdown",
   "metadata": {},
   "source": [
    "### Summarize what we've found\n",
    "- missing value : Age, Embarked, Cabin, Pclass\n",
    "- outlier : Fare\n",
    "- categorical variables : Embarked, Sex, Ticket, Name, PassengerId"
   ]
  },
  {
   "cell_type": "markdown",
   "metadata": {},
   "source": [
    "---"
   ]
  },
  {
   "cell_type": "markdown",
   "metadata": {},
   "source": [
    "## Step 2 : Preprocessing"
   ]
  },
  {
   "cell_type": "markdown",
   "metadata": {},
   "source": [
    "### Outlier handling\n",
    "- drop rows containing outlier\n",
    "- drop columns with outlier\n",
    "- clipping value\n",
    "- transform distribution"
   ]
  },
  {
   "cell_type": "code",
   "execution_count": null,
   "metadata": {},
   "outputs": [],
   "source": [
    "train_dat.Fare.describe()"
   ]
  },
  {
   "cell_type": "code",
   "execution_count": null,
   "metadata": {},
   "outputs": [],
   "source": [
    "# set fare as 200.0 if fare is greater than 200.0\n",
    "\n",
    "train_dat.loc[train_dat.Fare>200.0,'Fare'] = 200.0"
   ]
  },
  {
   "cell_type": "markdown",
   "metadata": {},
   "source": [
    "### Missing data handling\n",
    "- drop rows containing missing data\n",
    "- drop columns with missing data\n",
    "- missing data imputation"
   ]
  },
  {
   "cell_type": "code",
   "execution_count": null,
   "metadata": {},
   "outputs": [],
   "source": [
    "# impute age with median of age\n",
    "age_median = train_dat.Age.median()\n",
    "train_dat['Age'] = train_dat['Age'].fillna(age_median)\n",
    "\n",
    "# impute Embarked port with mode of Embarked\n",
    "embarked_mode = train_dat.Embarked.mode()[0]\n",
    "train_dat['Embarked'] = train_dat['Embarked'].fillna(embarked_mode)\n",
    "\n",
    "# impute Pclass with mode of Pclass\n",
    "Pclass_mode = train_dat.Pclass.mode()[0]\n",
    "train_dat['Pclass'] = train_dat['Pclass'].fillna(Pclass_mode)\n",
    "\n",
    "# drop cabin\n",
    "train_dat = train_dat.drop('Cabin', axis = 1)"
   ]
  },
  {
   "cell_type": "markdown",
   "metadata": {},
   "source": [
    "### Categorical feature encoding\n",
    "- label encoding\n",
    "- one-hot encoding\n",
    "- drop column"
   ]
  },
  {
   "cell_type": "code",
   "execution_count": null,
   "metadata": {},
   "outputs": [],
   "source": [
    "# Sex\n",
    "train_dat['Sex'] = train_dat['Sex'].map({'female':1, 'male':2})\n",
    "\n",
    "# Embarked\n",
    "train_dat['Embarked'] = train_dat['Embarked'].map({'C':0,'Q':1,'S':2})\n",
    "\n",
    "# PassengerId, Ticket, Name\n",
    "train_dat = train_dat.drop(['Ticket','PassengerId','Name'], axis = 1)"
   ]
  },
  {
   "cell_type": "code",
   "execution_count": null,
   "metadata": {},
   "outputs": [],
   "source": [
    "train_dat.head()"
   ]
  },
  {
   "cell_type": "code",
   "execution_count": null,
   "metadata": {},
   "outputs": [],
   "source": [
    "# the same preprocessing procedure should be done in testing data\n",
    "\n",
    "test_dat['Age'] = test_dat['Age'].fillna(age_median)\n",
    "test_dat['Embarked'] = test_dat['Embarked'].fillna(embarked_mode)\n",
    "test_dat = test_dat.drop('Cabin', axis = 1)\n",
    "\n",
    "test_dat['Sex'] = test_dat['Sex'].map({'female':1, 'male':2})\n",
    "test_dat['Embarked'] = test_dat['Embarked'].map({'C':0,'Q':1,'S':2})\n",
    "test_dat = test_dat.drop(['Ticket','PassengerId','Name'], axis = 1)"
   ]
  },
  {
   "cell_type": "code",
   "execution_count": null,
   "metadata": {},
   "outputs": [],
   "source": [
    "test_dat.head()"
   ]
  },
  {
   "cell_type": "code",
   "execution_count": null,
   "metadata": {},
   "outputs": [],
   "source": [
    "train_dat.to_csv('train_dat_processed.csv', index = False)\n",
    "test_dat.to_csv('test_dat_processed.csv', index = False)"
   ]
  },
  {
   "cell_type": "markdown",
   "metadata": {},
   "source": [
    "### We are ready to step into next step ->>>"
   ]
  },
  {
   "cell_type": "markdown",
   "metadata": {},
   "source": [
    "---"
   ]
  },
  {
   "cell_type": "markdown",
   "metadata": {},
   "source": [
    "## Step 3 : Train-test split"
   ]
  },
  {
   "cell_type": "code",
   "execution_count": null,
   "metadata": {},
   "outputs": [],
   "source": [
    "train_set, valid_set = model_selection.train_test_split(train_dat, test_size = 0.2, shuffle = True, random_state = 629)\n",
    "\n",
    "train_x = train_set.drop(['Survived'], axis = 1)\n",
    "train_y = train_set['Survived']\n",
    "\n",
    "valid_x = valid_set.drop(['Survived'], axis = 1)\n",
    "valid_y = valid_set['Survived']"
   ]
  },
  {
   "cell_type": "markdown",
   "metadata": {},
   "source": [
    "---"
   ]
  },
  {
   "cell_type": "markdown",
   "metadata": {},
   "source": [
    "## Step 4 : Build model"
   ]
  },
  {
   "cell_type": "code",
   "execution_count": null,
   "metadata": {},
   "outputs": [],
   "source": [
    "model = tree.DecisionTreeClassifier()\n",
    "\n",
    "model.fit(train_x, train_y)"
   ]
  },
  {
   "cell_type": "markdown",
   "metadata": {},
   "source": [
    "---"
   ]
  },
  {
   "cell_type": "markdown",
   "metadata": {},
   "source": [
    "## Step 5 : Model Evaluation"
   ]
  },
  {
   "cell_type": "code",
   "execution_count": null,
   "metadata": {},
   "outputs": [],
   "source": [
    "train_prediction = model.predict(train_x)\n",
    "\n",
    "cm = metrics.confusion_matrix(y_true = train_y, y_pred = train_prediction)\n",
    "acc = metrics.accuracy_score(y_true = train_y, y_pred = train_prediction)\n",
    "\n",
    "print(' --training set--\\r\\n')\n",
    "print(cm)\n",
    "print('accuracy score : {}'.format(acc))"
   ]
  },
  {
   "cell_type": "code",
   "execution_count": null,
   "metadata": {},
   "outputs": [],
   "source": [
    "valid_prediction = model.predict(valid_x)\n",
    "\n",
    "cm = metrics.confusion_matrix(y_true = valid_y, y_pred = valid_prediction)\n",
    "acc = metrics.accuracy_score(y_true = valid_y, y_pred = valid_prediction)\n",
    "\n",
    "print(' --validation set--\\r\\n')\n",
    "print(cm)\n",
    "print('accuracy score : {}'.format(acc))"
   ]
  },
  {
   "cell_type": "markdown",
   "metadata": {},
   "source": [
    "---"
   ]
  },
  {
   "cell_type": "markdown",
   "metadata": {},
   "source": [
    "## Step 6: Find a better model"
   ]
  },
  {
   "cell_type": "code",
   "execution_count": null,
   "metadata": {},
   "outputs": [],
   "source": [
    "## refine model\n",
    "\n",
    "model = tree.DecisionTreeClassifier(min_samples_split = 6)\n",
    "\n",
    "model.fit(train_x, train_y)\n",
    "\n",
    "train_prediction = model.predict(train_x)\n",
    "\n",
    "cm = metrics.confusion_matrix(y_true = train_y, y_pred = train_prediction)\n",
    "acc = metrics.accuracy_score(y_true = train_y, y_pred = train_prediction)\n",
    "\n",
    "print(' --training set--\\r\\n')\n",
    "print(cm)\n",
    "print('accuracy score : {}'.format(acc))\n",
    "\n",
    "valid_prediction = model.predict(valid_x)\n",
    "\n",
    "cm = metrics.confusion_matrix(y_true = valid_y, y_pred = valid_prediction)\n",
    "acc = metrics.accuracy_score(y_true = valid_y, y_pred = valid_prediction)\n",
    "\n",
    "print(' --validation set--\\r\\n')\n",
    "print(cm)\n",
    "print('accuracy score : {}'.format(acc))"
   ]
  },
  {
   "cell_type": "code",
   "execution_count": null,
   "metadata": {},
   "outputs": [],
   "source": [
    "from sklearn import ensemble\n",
    "\n",
    "model = ensemble.RandomForestClassifier(n_estimators = 100, min_samples_split=5)\n",
    "\n",
    "model.fit(train_x, train_y)\n",
    "\n"
   ]
  },
  {
   "cell_type": "code",
   "execution_count": null,
   "metadata": {},
   "outputs": [],
   "source": [
    "\n",
    "train_prediction = model.predict(train_x)\n",
    "\n",
    "cm = metrics.confusion_matrix(y_true = train_y, y_pred = train_prediction)\n",
    "acc = metrics.accuracy_score(y_true = train_y, y_pred = train_prediction)\n",
    "\n",
    "print(' --training set--\\r\\n')\n",
    "print(cm)\n",
    "print('accuracy score : {}'.format(acc))"
   ]
  },
  {
   "cell_type": "code",
   "execution_count": null,
   "metadata": {},
   "outputs": [],
   "source": [
    "\n",
    "valid_prediction = model.predict(valid_x)\n",
    "\n",
    "cm = metrics.confusion_matrix(y_true = valid_y, y_pred = valid_prediction)\n",
    "acc = metrics.accuracy_score(y_true = valid_y, y_pred = valid_prediction)\n",
    "\n",
    "print(' --validation set--\\r\\n')\n",
    "print(cm)\n",
    "print('accuracy score : {}'.format(acc))"
   ]
  },
  {
   "cell_type": "markdown",
   "metadata": {},
   "source": [
    "---"
   ]
  },
  {
   "cell_type": "markdown",
   "metadata": {},
   "source": [
    "## Something that you can try after the class\n",
    "- explore data thoroughly\n",
    "- create more feature based on existing features\n",
    "- build different kinds of ML models"
   ]
  }
 ],
 "metadata": {
  "kernelspec": {
   "display_name": "Python 3",
   "language": "python",
   "name": "python3"
  },
  "language_info": {
   "codemirror_mode": {
    "name": "ipython",
    "version": 3
   },
   "file_extension": ".py",
   "mimetype": "text/x-python",
   "name": "python",
   "nbconvert_exporter": "python",
   "pygments_lexer": "ipython3",
   "version": "3.6.4"
  }
 },
 "nbformat": 4,
 "nbformat_minor": 2
}
